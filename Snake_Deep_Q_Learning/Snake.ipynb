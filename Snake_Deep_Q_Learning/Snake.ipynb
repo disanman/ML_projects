{
 "cells": [
  {
   "cell_type": "markdown",
   "metadata": {
    "ExecuteTime": {
     "end_time": "2019-07-01T13:57:46.051579Z",
     "start_time": "2019-07-01T13:57:46.045346Z"
    }
   },
   "source": [
    "# Deep Q-Learning applied to the 'Snake game'"
   ]
  },
  {
   "cell_type": "markdown",
   "metadata": {},
   "source": [
    "This is the implementation o Deep Q-Learning applied to a game environment developed in Python and based in numpy vectors for faster code processing.\n",
    "\n",
    "![Snake](Snake.gif \"Snake\")\n",
    "\n",
    "![RL](https://www.kdnuggets.com/images/reinforcement-learning-fig1-700.jpg)"
   ]
  },
  {
   "cell_type": "markdown",
   "metadata": {
    "ExecuteTime": {
     "end_time": "2019-07-02T16:30:53.668334Z",
     "start_time": "2019-07-02T16:30:53.662676Z"
    }
   },
   "source": [
    "## The environment"
   ]
  },
  {
   "cell_type": "markdown",
   "metadata": {},
   "source": [
    "The environment is simulated using the class [SnakeEnvironment](SnakeEnvironment.py).\n",
    "The state $S_t$ is represented by the following measurements:\n",
    "  - distance to food (vertical)\n",
    "  - distance to food (horizontal)\n",
    "  - distance up (wall or own body)\n",
    "  - distance right (wall or own body)\n",
    "  - distance down (wall or own body)\n",
    "  - distance left (wall or own body)\n",
    "  - long snake (wether the snake is longer than 3 or not)\n",
    "  \n",
    "Each call to the method 'move_snake(direction)' will move the snake towards the specified direction and will return the new state of the environment $S_{t+1}$, the reward $R_{t+1}$ for the action $A_t$ represented by the input 'direction'."
   ]
  },
  {
   "cell_type": "markdown",
   "metadata": {},
   "source": [
    "## The agent"
   ]
  },
  {
   "cell_type": "markdown",
   "metadata": {},
   "source": [
    "The agent is an implementation of a Deep Q-Learning network using Keras. The class [SnakeDQNAgent](SnakeDQNAgent.py) builds two models of the following form:"
   ]
  },
  {
   "cell_type": "code",
   "execution_count": null,
   "metadata": {},
   "outputs": [],
   "source": [
    "policy_nn = models.Sequential()\n",
    "policy_nn.add(layers.Dense(128, activation='relu', input_shape=(self.state_size,)))\n",
    "policy_nn.add(layers.Dense(64, activation='relu'))\n",
    "policy_nn.add(layers.Dense(32, activation='relu'))\n",
    "policy_nn.add(layers.Dense(self.action_size))\n",
    "policy_nn.compile(loss='mse', optimizer=optimizers.RMSprop(lr=self.learning_rate))\n",
    "target_nn = clone_model(self.policy_nn)"
   ]
  },
  {
   "cell_type": "markdown",
   "metadata": {},
   "source": [
    "The policy neural network is in charge of estimating the action $A_t$ to be sent to the environment given a certain state $S_t$. \n",
    "The target neural network is a cloned version of the policy_nn with a small lag, it is used to estimate the future reward $Q(s', a')$. The motivation for using this second network is to help reducing the instability of using only a single network to calculate both the Q-values and the target Q-values, [source](https://youtu.be/xVkPh9E9GfE?t=114).\n",
    "\n",
    "The Bellman equation is used to update the Q values for the current state $S_t$ given the action $A_t$, the reward $R_t$ and the estimation of the future Q-value:\n",
    "$$Q_{(s,a)}=(1-\\alpha)Q_{(s,a)}+\\alpha\\left(R_{t}+\\gamma\\underset{a'}{\\max}Q_{(s',a')}\\right)$$"
   ]
  },
  {
   "cell_type": "markdown",
   "metadata": {},
   "source": [
    "## Training the agent"
   ]
  },
  {
   "cell_type": "markdown",
   "metadata": {},
   "source": [
    "The agent is trained using the class [SnakeTrain](SnakeTrain.py). The method `replay` of class `SnakeDQNAgent` is called at the end of each episode in order to update the Q-value estimations for the given state:"
   ]
  },
  {
   "cell_type": "code",
   "execution_count": null,
   "metadata": {},
   "outputs": [],
   "source": [
    "            targets = self.policy_nn.predict(states)\n",
    "            action_rewards = rewards * actions\n",
    "            learned_value = self.discount_rate * np.amax(self.target_nn.predict(new_states), axis=1) - np.amax(targets, axis=1)\n",
    "            target_modifier = action_rewards + (1-deads) * learned_value.reshape(self.batch_size, 1)\n",
    "            targets += target_modifier\n",
    "            self.policy_nn.fit(states, targets, epochs=self.epochs, verbose=0)"
   ]
  },
  {
   "cell_type": "markdown",
   "metadata": {},
   "source": [
    "Use the following code from a terminal (within the corresponding code folder) to train the snake with 50.000 episodes and visualize 100 episodes more (you can also use SnakeTrain.py --help):"
   ]
  },
  {
   "cell_type": "code",
   "execution_count": null,
   "metadata": {},
   "outputs": [],
   "source": [
    " python SnakeTrain.py --train_episodes 50000 --print_from 50100"
   ]
  }
 ],
 "metadata": {
  "kernelspec": {
   "display_name": "Python 3",
   "language": "python",
   "name": "python3"
  },
  "language_info": {
   "codemirror_mode": {
    "name": "ipython",
    "version": 3
   },
   "file_extension": ".py",
   "mimetype": "text/x-python",
   "name": "python",
   "nbconvert_exporter": "python",
   "pygments_lexer": "ipython3",
   "version": "3.6.8"
  },
  "toc": {
   "base_numbering": 1,
   "nav_menu": {},
   "number_sections": true,
   "sideBar": true,
   "skip_h1_title": false,
   "title_cell": "Table of Contents",
   "title_sidebar": "Contents",
   "toc_cell": false,
   "toc_position": {},
   "toc_section_display": true,
   "toc_window_display": false
  },
  "varInspector": {
   "cols": {
    "lenName": 16,
    "lenType": 16,
    "lenVar": 40
   },
   "kernels_config": {
    "python": {
     "delete_cmd_postfix": "",
     "delete_cmd_prefix": "del ",
     "library": "var_list.py",
     "varRefreshCmd": "print(var_dic_list())"
    },
    "r": {
     "delete_cmd_postfix": ") ",
     "delete_cmd_prefix": "rm(",
     "library": "var_list.r",
     "varRefreshCmd": "cat(var_dic_list()) "
    }
   },
   "types_to_exclude": [
    "module",
    "function",
    "builtin_function_or_method",
    "instance",
    "_Feature"
   ],
   "window_display": false
  }
 },
 "nbformat": 4,
 "nbformat_minor": 2
}
