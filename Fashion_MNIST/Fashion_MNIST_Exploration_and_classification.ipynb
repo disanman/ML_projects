{
 "cells": [
  {
   "cell_type": "markdown",
   "metadata": {},
   "source": [
    "# Fashion MNIST - Exploration and classification"
   ]
  },
  {
   "cell_type": "markdown",
   "metadata": {},
   "source": [
    "In this notebook data from the fashion MNIST is loaded and different classifiers are trained. Finally an ensemble is created."
   ]
  },
  {
   "cell_type": "markdown",
   "metadata": {},
   "source": [
    "## Load data"
   ]
  },
  {
   "cell_type": "markdown",
   "metadata": {},
   "source": [
    "Load required libraries"
   ]
  },
  {
   "cell_type": "code",
   "execution_count": 10,
   "metadata": {
    "ExecuteTime": {
     "end_time": "2019-07-01T12:59:39.069926Z",
     "start_time": "2019-07-01T12:59:39.066950Z"
    }
   },
   "outputs": [],
   "source": [
    "from tensorflow.keras.datasets import fashion_mnist\n",
    "from tensorflow.keras.utils import to_categorical\n",
    "from tensorflow.keras import models, layers\n",
    "from keras import regularizers\n",
    "from sklearn.model_selection import train_test_split\n",
    "from sklearn.metrics import classification_report\n",
    "import matplotlib.pyplot as plt\n",
    "import seaborn as sns\n",
    "import numpy as np"
   ]
  },
  {
   "cell_type": "markdown",
   "metadata": {},
   "source": [
    "Load data and preprocess it"
   ]
  },
  {
   "cell_type": "code",
   "execution_count": 2,
   "metadata": {
    "ExecuteTime": {
     "end_time": "2019-07-01T12:57:54.581304Z",
     "start_time": "2019-07-01T12:57:54.216658Z"
    },
    "code_folding": []
   },
   "outputs": [],
   "source": [
    "(train_images, train_labels), (test_images, test_labels) = fashion_mnist.load_data()\n",
    "class_names = ['T-shirt/top', 'Trouser', 'Pullover', 'Dress', 'Coat', 'Sandal', 'Shirt', 'Sneaker', 'Bag', 'Ankle boot']\n",
    "# data preprocessing\n",
    "train = train_images.reshape(60000, 28*28) / 255   # reshape and scale\n",
    "test = test_images.reshape(10000, 28*28) / 255\n",
    "train_targets = to_categorical(train_labels)\n",
    "test_targets = to_categorical(test_labels)"
   ]
  },
  {
   "cell_type": "markdown",
   "metadata": {},
   "source": [
    "Train shapes:"
   ]
  },
  {
   "cell_type": "code",
   "execution_count": 3,
   "metadata": {
    "ExecuteTime": {
     "end_time": "2019-07-01T12:57:56.575324Z",
     "start_time": "2019-07-01T12:57:56.571688Z"
    }
   },
   "outputs": [
    {
     "data": {
      "text/plain": [
       "((60000, 784), (60000, 10))"
      ]
     },
     "execution_count": 3,
     "metadata": {},
     "output_type": "execute_result"
    }
   ],
   "source": [
    "train.shape, train_targets.shape"
   ]
  },
  {
   "cell_type": "markdown",
   "metadata": {},
   "source": [
    "Test shapes:"
   ]
  },
  {
   "cell_type": "code",
   "execution_count": 10,
   "metadata": {
    "ExecuteTime": {
     "end_time": "2019-06-30T13:04:18.315208Z",
     "start_time": "2019-06-30T13:04:18.304677Z"
    }
   },
   "outputs": [
    {
     "data": {
      "text/plain": [
       "((10000, 784), (10000, 10))"
      ]
     },
     "execution_count": 10,
     "metadata": {},
     "output_type": "execute_result"
    }
   ],
   "source": [
    "test.shape, test_targets.shape"
   ]
  },
  {
   "cell_type": "code",
   "execution_count": 4,
   "metadata": {
    "ExecuteTime": {
     "end_time": "2019-07-01T06:12:58.740578Z",
     "start_time": "2019-07-01T06:12:58.737939Z"
    },
    "code_folding": [
     0
    ]
   },
   "outputs": [],
   "source": [
    "def plot_image(pos, image_vector):\n",
    "    plt.imshow(image_vector[pos].reshape(28, 28), cmap=plt.cm.binary)\n",
    "    plt.axis('off')\n",
    "    plt.show()"
   ]
  },
  {
   "cell_type": "code",
   "execution_count": 5,
   "metadata": {
    "ExecuteTime": {
     "end_time": "2019-07-01T06:13:00.778734Z",
     "start_time": "2019-07-01T06:13:00.683183Z"
    }
   },
   "outputs": [
    {
     "data": {
      "image/png": "[encoded data removed]",
      "text/plain": [
       "<Figure size 432x288 with 1 Axes>"
      ]
     },
     "metadata": {
      "needs_background": "light"
     },
     "output_type": "display_data"
    }
   ],
   "source": [
    "plot_image(42, train)"
   ]
  },
  {
   "cell_type": "markdown",
   "metadata": {},
   "source": [
    "## Create a simple neural network"
   ]
  },
  {
   "cell_type": "code",
   "execution_count": 38,
   "metadata": {
    "ExecuteTime": {
     "end_time": "2019-07-01T09:07:58.144186Z",
     "start_time": "2019-07-01T09:07:57.979441Z"
    }
   },
   "outputs": [],
   "source": [
    "def build_network():\n",
    "    network = models.Sequential()\n",
    "    network.add(layers.Dense(512, activation='relu', input_shape=(28 * 28,)))\n",
    "    network.add(layers.Dense(10, activation='softmax'))\n",
    "    network.compile(optimizer='rmsprop', loss='categorical_crossentropy', metrics=['accuracy'])\n",
    "    return network\n",
    "\n",
    "network = build_network()"
   ]
  },
  {
   "cell_type": "code",
   "execution_count": 16,
   "metadata": {
    "ExecuteTime": {
     "end_time": "2019-06-30T13:05:04.353560Z",
     "start_time": "2019-06-30T13:04:40.251174Z"
    }
   },
   "outputs": [
    {
     "name": "stderr",
     "output_type": "stream",
     "text": [
      "WARNING: Logging before flag parsing goes to stderr.\n",
      "W0630 15:04:40.398495 140525097101120 deprecation.py:323] From /home/diego/miniconda3/lib/python3.6/site-packages/tensorflow/python/ops/math_grad.py:1250: add_dispatch_support.<locals>.wrapper (from tensorflow.python.ops.array_ops) is deprecated and will be removed in a future version.\n",
      "Instructions for updating:\n",
      "Use tf.where in 2.0, which has the same broadcast rule as np.where\n"
     ]
    },
    {
     "name": "stdout",
     "output_type": "stream",
     "text": [
      "Train on 60000 samples\n",
      "Epoch 1/5\n",
      "60000/60000 [==============================] - 4s 70us/sample - loss: 0.5614 - accuracy: 0.8032\n",
      "Epoch 2/5\n",
      "60000/60000 [==============================] - 5s 76us/sample - loss: 0.3817 - accuracy: 0.8598\n",
      "Epoch 3/5\n",
      "60000/60000 [==============================] - 5s 84us/sample - loss: 0.3355 - accuracy: 0.8788\n",
      "Epoch 4/5\n",
      "60000/60000 [==============================] - 5s 82us/sample - loss: 0.3120 - accuracy: 0.8861\n",
      "Epoch 5/5\n",
      "60000/60000 [==============================] - 5s 84us/sample - loss: 0.2915 - accuracy: 0.8931\n"
     ]
    },
    {
     "data": {
      "text/plain": [
       "<tensorflow.python.keras.callbacks.History at 0x7fce0f92a240>"
      ]
     },
     "execution_count": 16,
     "metadata": {},
     "output_type": "execute_result"
    }
   ],
   "source": [
    "network.fit(train, train_targets, epochs=5, batch_size=128)"
   ]
  },
  {
   "cell_type": "code",
   "execution_count": 17,
   "metadata": {
    "ExecuteTime": {
     "end_time": "2019-06-30T13:05:13.187973Z",
     "start_time": "2019-06-30T13:05:12.414204Z"
    }
   },
   "outputs": [],
   "source": [
    "predictions = network.predict(test)"
   ]
  },
  {
   "cell_type": "code",
   "execution_count": 18,
   "metadata": {
    "ExecuteTime": {
     "end_time": "2019-06-30T13:05:15.674914Z",
     "start_time": "2019-06-30T13:05:15.302585Z"
    }
   },
   "outputs": [
    {
     "data": {
      "text/plain": [
       "array([[800,   1,  24,   8,   0,   1, 160,   0,   6,   0],\n",
       "       [  1, 977,   0,  14,   2,   0,   5,   0,   1,   0],\n",
       "       [ 13,   0, 856,   4,  64,   0,  62,   0,   1,   0],\n",
       "       [ 38,  10,  27, 843,  21,   0,  58,   0,   3,   0],\n",
       "       [  0,   1, 166,  23, 710,   0,  99,   0,   1,   0],\n",
       "       [  0,   0,   0,   0,   0, 965,   0,  21,   0,  14],\n",
       "       [ 77,   1, 112,  12,  56,   0, 737,   0,   5,   0],\n",
       "       [  0,   0,   0,   0,   0,  16,   0, 954,   1,  29],\n",
       "       [  4,   0,   8,   5,   1,   1,   7,   4, 970,   0],\n",
       "       [  0,   0,   0,   0,   0,   3,   1,  38,   0, 958]])"
      ]
     },
     "execution_count": 18,
     "metadata": {},
     "output_type": "execute_result"
    }
   ],
   "source": [
    "from sklearn.metrics import confusion_matrix\n",
    "\n",
    "conf_mat = confusion_matrix(test_labels, predictions.argmax(axis=1))\n",
    "conf_mat"
   ]
  },
  {
   "cell_type": "code",
   "execution_count": 19,
   "metadata": {
    "ExecuteTime": {
     "end_time": "2019-06-30T13:05:17.027634Z",
     "start_time": "2019-06-30T13:05:16.809573Z"
    }
   },
   "outputs": [
    {
     "data": {
      "image/png": "[encoded data removed]",
      "text/plain": [
       "<Figure size 288x288 with 1 Axes>"
      ]
     },
     "metadata": {
      "needs_background": "light"
     },
     "output_type": "display_data"
    }
   ],
   "source": [
    "plt.matshow(conf_mat, cmap=plt.cm.gray)\n",
    "plt.show()"
   ]
  },
  {
   "cell_type": "markdown",
   "metadata": {},
   "source": [
    "Visualize intra class errors:"
   ]
  },
  {
   "cell_type": "code",
   "execution_count": 20,
   "metadata": {
    "ExecuteTime": {
     "end_time": "2019-06-30T13:05:19.176658Z",
     "start_time": "2019-06-30T13:05:18.972572Z"
    }
   },
   "outputs": [
    {
     "data": {
      "image/png": "[encoded data removed]",
      "text/plain": [
       "<Figure size 288x288 with 1 Axes>"
      ]
     },
     "metadata": {
      "needs_background": "light"
     },
     "output_type": "display_data"
    }
   ],
   "source": [
    "row_sums = conf_mat.sum(axis=1, keepdims=True)\n",
    "norm_conf_mat = conf_mat / row_sums\n",
    "np.fill_diagonal(norm_conf_mat, 0)  # remove diagonal (TP)\n",
    "plt.matshow(norm_conf_mat, cmap=plt.cm.gray)\n",
    "# plt.xlabel(class_names,)\n",
    "plt.show()"
   ]
  },
  {
   "cell_type": "markdown",
   "metadata": {},
   "source": [
    "Class 0 is being missclassified the most, especially with respect to class 6."
   ]
  },
  {
   "cell_type": "code",
   "execution_count": 21,
   "metadata": {
    "ExecuteTime": {
     "end_time": "2019-06-30T13:05:20.787448Z",
     "start_time": "2019-06-30T13:05:20.776524Z"
    }
   },
   "outputs": [
    {
     "data": {
      "text/plain": [
       "('T-shirt/top', 'Shirt')"
      ]
     },
     "execution_count": 21,
     "metadata": {},
     "output_type": "execute_result"
    }
   ],
   "source": [
    "class_names[0], class_names[6]"
   ]
  },
  {
   "cell_type": "code",
   "execution_count": 23,
   "metadata": {
    "ExecuteTime": {
     "end_time": "2019-06-30T13:05:41.896986Z",
     "start_time": "2019-06-30T13:05:41.835321Z"
    }
   },
   "outputs": [
    {
     "name": "stdout",
     "output_type": "stream",
     "text": [
      "              precision    recall  f1-score   support\n",
      "\n",
      " T-shirt/top      0.857     0.800     0.828      1000\n",
      "     Trouser      0.987     0.977     0.982      1000\n",
      "    Pullover      0.718     0.856     0.781      1000\n",
      "       Dress      0.927     0.843     0.883      1000\n",
      "        Coat      0.831     0.710     0.766      1000\n",
      "      Sandal      0.979     0.965     0.972      1000\n",
      "       Shirt      0.653     0.737     0.692      1000\n",
      "     Sneaker      0.938     0.954     0.946      1000\n",
      "         Bag      0.982     0.970     0.976      1000\n",
      "  Ankle boot      0.957     0.958     0.958      1000\n",
      "\n",
      "   micro avg      0.877     0.877     0.877     10000\n",
      "   macro avg      0.883     0.877     0.878     10000\n",
      "weighted avg      0.883     0.877     0.878     10000\n",
      "\n"
     ]
    }
   ],
   "source": [
    "report_simple_nn = classification_report(test_labels, predictions.argmax(axis=1), target_names=class_names, digits=3)\n",
    "print(report_simple_nn)"
   ]
  },
  {
   "cell_type": "markdown",
   "metadata": {},
   "source": [
    "### Use simple-validation to find the best number of epochs"
   ]
  },
  {
   "cell_type": "markdown",
   "metadata": {
    "ExecuteTime": {
     "end_time": "2019-07-01T05:55:53.211574Z",
     "start_time": "2019-07-01T05:55:53.208751Z"
    }
   },
   "source": [
    "Create a validation set (a fraction of the train set):"
   ]
  },
  {
   "cell_type": "code",
   "execution_count": 41,
   "metadata": {
    "ExecuteTime": {
     "end_time": "2019-07-01T09:08:51.503211Z",
     "start_time": "2019-07-01T09:08:51.442287Z"
    }
   },
   "outputs": [],
   "source": [
    "x_train, val_train, x_target, val_target = train_test_split(train, train_targets, test_size=0.25, random_state=42)"
   ]
  },
  {
   "cell_type": "code",
   "execution_count": 42,
   "metadata": {
    "ExecuteTime": {
     "end_time": "2019-07-01T09:09:16.654186Z",
     "start_time": "2019-07-01T09:08:52.454885Z"
    },
    "code_folding": [],
    "scrolled": true
   },
   "outputs": [
    {
     "name": "stderr",
     "output_type": "stream",
     "text": [
      "WARNING: Logging before flag parsing goes to stderr.\n",
      "W0701 11:08:52.501058 140466262558528 deprecation.py:323] From /home/diego/miniconda3/lib/python3.6/site-packages/tensorflow/python/ops/math_grad.py:1250: add_dispatch_support.<locals>.wrapper (from tensorflow.python.ops.array_ops) is deprecated and will be removed in a future version.\n",
      "Instructions for updating:\n",
      "Use tf.where in 2.0, which has the same broadcast rule as np.where\n"
     ]
    },
    {
     "name": "stdout",
     "output_type": "stream",
     "text": [
      "Train on 45000 samples, validate on 15000 samples\n",
      "Epoch 1/20\n",
      "45000/45000 [==============================] - 1s 32us/sample - loss: 0.5956 - accuracy: 0.7912 - val_loss: 0.5116 - val_accuracy: 0.8063\n",
      "Epoch 2/20\n",
      "45000/45000 [==============================] - 1s 25us/sample - loss: 0.4022 - accuracy: 0.8523 - val_loss: 0.4552 - val_accuracy: 0.8474\n",
      "Epoch 3/20\n",
      "45000/45000 [==============================] - 1s 27us/sample - loss: 0.3553 - accuracy: 0.8686 - val_loss: 0.3738 - val_accuracy: 0.8631\n",
      "Epoch 4/20\n",
      "45000/45000 [==============================] - 1s 24us/sample - loss: 0.3224 - accuracy: 0.8813 - val_loss: 0.3403 - val_accuracy: 0.8775\n",
      "Epoch 5/20\n",
      "45000/45000 [==============================] - 1s 28us/sample - loss: 0.3032 - accuracy: 0.8866 - val_loss: 0.3338 - val_accuracy: 0.8824\n",
      "Epoch 6/20\n",
      "45000/45000 [==============================] - 1s 27us/sample - loss: 0.2859 - accuracy: 0.8943 - val_loss: 0.3259 - val_accuracy: 0.8817\n",
      "Epoch 7/20\n",
      "45000/45000 [==============================] - 1s 27us/sample - loss: 0.2726 - accuracy: 0.8982 - val_loss: 0.3379 - val_accuracy: 0.8814\n",
      "Epoch 8/20\n",
      "45000/45000 [==============================] - 1s 27us/sample - loss: 0.2582 - accuracy: 0.9037 - val_loss: 0.3136 - val_accuracy: 0.8899\n",
      "Epoch 9/20\n",
      "45000/45000 [==============================] - 1s 26us/sample - loss: 0.2484 - accuracy: 0.9086 - val_loss: 0.3547 - val_accuracy: 0.8822\n",
      "Epoch 10/20\n",
      "45000/45000 [==============================] - 1s 25us/sample - loss: 0.2403 - accuracy: 0.9102 - val_loss: 0.3717 - val_accuracy: 0.8735\n",
      "Epoch 11/20\n",
      "45000/45000 [==============================] - 1s 26us/sample - loss: 0.2306 - accuracy: 0.9140 - val_loss: 0.3329 - val_accuracy: 0.8882\n",
      "Epoch 12/20\n",
      "45000/45000 [==============================] - 1s 25us/sample - loss: 0.2229 - accuracy: 0.9160 - val_loss: 0.3657 - val_accuracy: 0.8770\n",
      "Epoch 13/20\n",
      "45000/45000 [==============================] - 1s 26us/sample - loss: 0.2149 - accuracy: 0.9203 - val_loss: 0.3726 - val_accuracy: 0.8822\n",
      "Epoch 14/20\n",
      "45000/45000 [==============================] - 1s 25us/sample - loss: 0.2102 - accuracy: 0.9228 - val_loss: 0.3583 - val_accuracy: 0.8861\n",
      "Epoch 15/20\n",
      "45000/45000 [==============================] - 1s 25us/sample - loss: 0.2012 - accuracy: 0.9258 - val_loss: 0.3911 - val_accuracy: 0.8739\n",
      "Epoch 16/20\n",
      "45000/45000 [==============================] - 1s 25us/sample - loss: 0.1942 - accuracy: 0.9271 - val_loss: 0.3611 - val_accuracy: 0.8865\n",
      "Epoch 17/20\n",
      "45000/45000 [==============================] - 1s 25us/sample - loss: 0.1894 - accuracy: 0.9297 - val_loss: 0.3484 - val_accuracy: 0.8930\n",
      "Epoch 18/20\n",
      "45000/45000 [==============================] - 1s 26us/sample - loss: 0.1844 - accuracy: 0.9308 - val_loss: 0.3330 - val_accuracy: 0.8961\n",
      "Epoch 19/20\n",
      "45000/45000 [==============================] - 1s 30us/sample - loss: 0.1801 - accuracy: 0.9333 - val_loss: 0.4709 - val_accuracy: 0.8683\n",
      "Epoch 20/20\n",
      "45000/45000 [==============================] - 1s 30us/sample - loss: 0.1735 - accuracy: 0.9352 - val_loss: 0.3967 - val_accuracy: 0.8798\n"
     ]
    }
   ],
   "source": [
    "train_val_results = network.fit(x_train, x_target, epochs=20, batch_size=128, validation_data=(val_train, val_target))"
   ]
  },
  {
   "cell_type": "code",
   "execution_count": 134,
   "metadata": {
    "ExecuteTime": {
     "end_time": "2019-07-01T10:39:53.786666Z",
     "start_time": "2019-07-01T10:39:53.409999Z"
    },
    "code_folding": []
   },
   "outputs": [
    {
     "data": {
      "image/png": "[encoded data removed]",
      "text/plain": [
       "<Figure size 720x576 with 2 Axes>"
      ]
     },
     "metadata": {
      "needs_background": "light"
     },
     "output_type": "display_data"
    }
   ],
   "source": [
    "def plot_history(history):\n",
    "    fig, (ax1, ax2) = plt.subplots(2, 1, figsize=(10, 8))\n",
    "    epochs = len(history['loss']) + 1\n",
    "    p1 = sns.lineplot(x=range(1, epochs), y=history['loss'], label='Train', ax=ax1)\n",
    "    p1 = sns.lineplot(x=range(1, epochs), y=history['val_loss'], label='Validation', ax=ax1)\n",
    "    p2 = sns.lineplot(x=range(1, epochs), y=history['accuracy'], label='Train', ax=ax2)\n",
    "    p2 = sns.lineplot(x=range(1, epochs), y=history['val_accuracy'], label='Validation', ax=ax2)\n",
    "    p1.set(xlabel='epochs', ylabel='categorical_crossentropy', title='Train vs validation')\n",
    "    p2.set(xlabel='epochs', ylabel='accuracy')\n",
    "    fig\n",
    "\n",
    "plot_history(train_val_results.history)"
   ]
  },
  {
   "cell_type": "markdown",
   "metadata": {},
   "source": [
    "## Using convolutional layers"
   ]
  },
  {
   "cell_type": "code",
   "execution_count": 4,
   "metadata": {
    "ExecuteTime": {
     "end_time": "2019-07-01T12:58:17.462743Z",
     "start_time": "2019-07-01T12:58:17.383781Z"
    }
   },
   "outputs": [],
   "source": [
    "train_images = train_images.reshape((60000, 28, 28, 1)) / 255\n",
    "test_images = test_images.reshape((10000, 28, 28, 1)) / 255"
   ]
  },
  {
   "cell_type": "code",
   "execution_count": 17,
   "metadata": {
    "ExecuteTime": {
     "end_time": "2019-07-01T13:05:51.189252Z",
     "start_time": "2019-07-01T13:05:50.920045Z"
    }
   },
   "outputs": [],
   "source": [
    "def build_network():\n",
    "    network = models.Sequential()\n",
    "    # Convolutional layers\n",
    "    network.add(layers.Conv2D(32, (3, 3), activation='relu', input_shape=(28, 28, 1)))\n",
    "    network.add(layers.MaxPooling2D((2, 2)))\n",
    "    network.add(layers.Dropout(0.3))\n",
    "    network.add(layers.Conv2D(64, (3, 3), activation='relu'))\n",
    "    network.add(layers.MaxPooling2D((2, 2)))\n",
    "    network.add(layers.Dropout(0.3))\n",
    "    network.add(layers.Conv2D(64, (3, 3), activation='relu'))\n",
    "    # Adding layer on toabsp\n",
    "    network.add(layers.Flatten())\n",
    "    network.add(layers.Dense(64, activation='relu'))\n",
    "    network.add(layers.Dropout(0.3))\n",
    "    network.add(layers.Dense(10, activation='softmax'))\n",
    "    network.compile(optimizer='rmsprop', loss='categorical_crossentropy', metrics=['accuracy'])\n",
    "    return network\n",
    "\n",
    "network = build_network()"
   ]
  },
  {
   "cell_type": "code",
   "execution_count": 15,
   "metadata": {
    "ExecuteTime": {
     "end_time": "2019-07-01T13:05:27.622223Z",
     "start_time": "2019-07-01T13:05:27.556702Z"
    }
   },
   "outputs": [
    {
     "data": {
      "text/plain": [
       "((45000, 28, 28, 1), (15000, 28, 28, 1), (45000, 10), (15000, 10))"
      ]
     },
     "execution_count": 15,
     "metadata": {},
     "output_type": "execute_result"
    }
   ],
   "source": [
    "x_train, val_train, x_target, val_target = train_test_split(train_images, train_targets, test_size=0.25, random_state=42)\n",
    "x_train.shape, val_train.shape, x_target.shape, val_target.shape"
   ]
  },
  {
   "cell_type": "code",
   "execution_count": 18,
   "metadata": {
    "ExecuteTime": {
     "end_time": "2019-07-01T13:11:10.599541Z",
     "start_time": "2019-07-01T13:05:53.039323Z"
    },
    "scrolled": true
   },
   "outputs": [
    {
     "name": "stdout",
     "output_type": "stream",
     "text": [
      "Train on 45000 samples, validate on 15000 samples\n",
      "Epoch 1/20\n",
      "45000/45000 [==============================] - 14s 316us/sample - loss: 0.6730 - accuracy: 0.7517 - val_loss: 0.4130 - val_accuracy: 0.8489\n",
      "Epoch 2/20\n",
      "45000/45000 [==============================] - 14s 304us/sample - loss: 0.4347 - accuracy: 0.8435 - val_loss: 0.3926 - val_accuracy: 0.8475\n",
      "Epoch 3/20\n",
      "45000/45000 [==============================] - 17s 374us/sample - loss: 0.3842 - accuracy: 0.8630 - val_loss: 0.3448 - val_accuracy: 0.8695\n",
      "Epoch 4/20\n",
      "45000/45000 [==============================] - 14s 311us/sample - loss: 0.3619 - accuracy: 0.8712 - val_loss: 0.3063 - val_accuracy: 0.8859\n",
      "Epoch 5/20\n",
      "45000/45000 [==============================] - 17s 388us/sample - loss: 0.3502 - accuracy: 0.8768 - val_loss: 0.3090 - val_accuracy: 0.8897\n",
      "Epoch 6/20\n",
      "45000/45000 [==============================] - 14s 301us/sample - loss: 0.3500 - accuracy: 0.8776 - val_loss: 0.2968 - val_accuracy: 0.8937\n",
      "Epoch 7/20\n",
      "45000/45000 [==============================] - 15s 327us/sample - loss: 0.3563 - accuracy: 0.8766 - val_loss: 0.3258 - val_accuracy: 0.8845\n",
      "Epoch 8/20\n",
      "45000/45000 [==============================] - 14s 302us/sample - loss: 0.3610 - accuracy: 0.8763 - val_loss: 0.3046 - val_accuracy: 0.8919\n",
      "Epoch 9/20\n",
      "45000/45000 [==============================] - 18s 391us/sample - loss: 0.3763 - accuracy: 0.8735 - val_loss: 0.3032 - val_accuracy: 0.8918\n",
      "Epoch 10/20\n",
      "45000/45000 [==============================] - 14s 321us/sample - loss: 0.3867 - accuracy: 0.8708 - val_loss: 0.3100 - val_accuracy: 0.8895\n",
      "Epoch 11/20\n",
      "45000/45000 [==============================] - 18s 393us/sample - loss: 0.3921 - accuracy: 0.8686 - val_loss: 0.3331 - val_accuracy: 0.8805\n",
      "Epoch 12/20\n",
      "45000/45000 [==============================] - 15s 330us/sample - loss: 0.4031 - accuracy: 0.8622 - val_loss: 0.3660 - val_accuracy: 0.8789\n",
      "Epoch 13/20\n",
      "45000/45000 [==============================] - 14s 313us/sample - loss: 0.4083 - accuracy: 0.8603 - val_loss: 0.3535 - val_accuracy: 0.8721\n",
      "Epoch 14/20\n",
      "45000/45000 [==============================] - 14s 313us/sample - loss: 0.4083 - accuracy: 0.8628 - val_loss: 0.3311 - val_accuracy: 0.8809\n",
      "Epoch 15/20\n",
      "45000/45000 [==============================] - 15s 330us/sample - loss: 0.4138 - accuracy: 0.8590 - val_loss: 0.4605 - val_accuracy: 0.8651\n",
      "Epoch 16/20\n",
      "45000/45000 [==============================] - 21s 457us/sample - loss: 0.4235 - accuracy: 0.8562 - val_loss: 0.3960 - val_accuracy: 0.8513\n",
      "Epoch 17/20\n",
      "45000/45000 [==============================] - 21s 456us/sample - loss: 0.4280 - accuracy: 0.8559 - val_loss: 0.3777 - val_accuracy: 0.8623\n",
      "Epoch 18/20\n",
      "45000/45000 [==============================] - 14s 310us/sample - loss: 0.4309 - accuracy: 0.8525 - val_loss: 0.3749 - val_accuracy: 0.8696\n",
      "Epoch 19/20\n",
      "45000/45000 [==============================] - 14s 322us/sample - loss: 0.4378 - accuracy: 0.8500 - val_loss: 0.3756 - val_accuracy: 0.8690\n",
      "Epoch 20/20\n",
      "45000/45000 [==============================] - 22s 487us/sample - loss: 0.4433 - accuracy: 0.8498 - val_loss: 0.4680 - val_accuracy: 0.8465\n"
     ]
    }
   ],
   "source": [
    "train_val_results = network.fit(x_train, x_target, epochs=20, validation_data=(val_train, val_target), \n",
    "                                use_multiprocessing=True, workers=5)"
   ]
  },
  {
   "cell_type": "code",
   "execution_count": 21,
   "metadata": {
    "ExecuteTime": {
     "end_time": "2019-07-01T13:17:08.131286Z",
     "start_time": "2019-07-01T13:17:07.711623Z"
    }
   },
   "outputs": [
    {
     "data": {
      "image/png": "[encoded data removed]",
      "text/plain": [
       "<Figure size 720x576 with 2 Axes>"
      ]
     },
     "metadata": {
      "needs_background": "light"
     },
     "output_type": "display_data"
    }
   ],
   "source": [
    "plot_history(train_val_results.history)"
   ]
  },
  {
   "cell_type": "markdown",
   "metadata": {},
   "source": [
    "Fit again using all the train set, and 5 epochs"
   ]
  },
  {
   "cell_type": "code",
   "execution_count": 24,
   "metadata": {
    "ExecuteTime": {
     "end_time": "2019-07-01T13:21:29.933132Z",
     "start_time": "2019-07-01T13:20:02.018125Z"
    }
   },
   "outputs": [
    {
     "name": "stdout",
     "output_type": "stream",
     "text": [
      "Train on 60000 samples\n",
      "Epoch 1/5\n",
      "60000/60000 [==============================] - 17s 291us/sample - loss: 0.6145 - accuracy: 0.7747\n",
      "Epoch 2/5\n",
      "60000/60000 [==============================] - 17s 289us/sample - loss: 0.4001 - accuracy: 0.8565\n",
      "Epoch 3/5\n",
      "60000/60000 [==============================] - 17s 290us/sample - loss: 0.3655 - accuracy: 0.8705\n",
      "Epoch 4/5\n",
      "60000/60000 [==============================] - 17s 290us/sample - loss: 0.3604 - accuracy: 0.8761\n",
      "Epoch 5/5\n",
      "60000/60000 [==============================] - 17s 291us/sample - loss: 0.3691 - accuracy: 0.8740\n"
     ]
    },
    {
     "data": {
      "text/plain": [
       "<tensorflow.python.keras.callbacks.History at 0x7f1790103c50>"
      ]
     },
     "execution_count": 24,
     "metadata": {},
     "output_type": "execute_result"
    }
   ],
   "source": [
    "network = build_network()\n",
    "network.fit(train_images, train_targets, epochs=5)"
   ]
  },
  {
   "cell_type": "code",
   "execution_count": 25,
   "metadata": {
    "ExecuteTime": {
     "end_time": "2019-07-01T13:21:58.869969Z",
     "start_time": "2019-07-01T13:21:58.137461Z"
    }
   },
   "outputs": [],
   "source": [
    "predictions = network.predict(test_images)"
   ]
  },
  {
   "cell_type": "code",
   "execution_count": 26,
   "metadata": {
    "ExecuteTime": {
     "end_time": "2019-07-01T13:22:05.374326Z",
     "start_time": "2019-07-01T13:22:05.353454Z"
    }
   },
   "outputs": [
    {
     "name": "stdout",
     "output_type": "stream",
     "text": [
      "              precision    recall  f1-score   support\n",
      "\n",
      " T-shirt/top      0.823     0.836     0.829      1000\n",
      "     Trouser      0.989     0.973     0.981      1000\n",
      "    Pullover      0.789     0.880     0.832      1000\n",
      "       Dress      0.790     0.953     0.864      1000\n",
      "        Coat      0.867     0.722     0.788      1000\n",
      "      Sandal      0.991     0.957     0.974      1000\n",
      "       Shirt      0.727     0.611     0.664      1000\n",
      "     Sneaker      0.937     0.972     0.954      1000\n",
      "         Bag      0.971     0.978     0.975      1000\n",
      "  Ankle boot      0.965     0.959     0.962      1000\n",
      "\n",
      "   micro avg      0.884     0.884     0.884     10000\n",
      "   macro avg      0.885     0.884     0.882     10000\n",
      "weighted avg      0.885     0.884     0.882     10000\n",
      "\n"
     ]
    }
   ],
   "source": [
    "report_cross_validated_conv_nn = classification_report(test_labels, predictions.argmax(axis=1), \n",
    "                                                       target_names=class_names, digits=3)\n",
    "print(report_cross_validated_conv_nn)"
   ]
  },
  {
   "cell_type": "markdown",
   "metadata": {},
   "source": [
    "## Train a RandomForest regressor"
   ]
  },
  {
   "cell_type": "code",
   "execution_count": 6,
   "metadata": {
    "ExecuteTime": {
     "end_time": "2019-07-01T06:13:12.038641Z",
     "start_time": "2019-07-01T06:13:11.890325Z"
    }
   },
   "outputs": [],
   "source": [
    "from sklearn.ensemble import RandomForestClassifier\n",
    "\n",
    "rf_clf = RandomForestClassifier()"
   ]
  },
  {
   "cell_type": "code",
   "execution_count": 68,
   "metadata": {
    "ExecuteTime": {
     "end_time": "2019-06-30T15:16:20.149324Z",
     "start_time": "2019-06-30T14:26:50.559251Z"
    },
    "scrolled": true
   },
   "outputs": [
    {
     "name": "stdout",
     "output_type": "stream",
     "text": [
      "Fitting 3 folds for each of 30 candidates, totalling 90 fits\n"
     ]
    },
    {
     "name": "stderr",
     "output_type": "stream",
     "text": [
      "[Parallel(n_jobs=-1)]: Using backend LokyBackend with 12 concurrent workers.\n",
      "[Parallel(n_jobs=-1)]: Done  26 tasks      | elapsed: 14.7min\n",
      "[Parallel(n_jobs=-1)]: Done  90 out of  90 | elapsed: 37.3min finished\n"
     ]
    },
    {
     "data": {
      "text/plain": [
       "RandomizedSearchCV(cv=3, error_score='raise-deprecating',\n",
       "          estimator=RandomForestClassifier(bootstrap=True, class_weight=None, criterion='gini',\n",
       "            max_depth=None, max_features='auto', max_leaf_nodes=None,\n",
       "            min_impurity_decrease=0.0, min_impurity_split=None,\n",
       "            min_samples_leaf=1, min_samples_split=2,\n",
       "            min_weight_fraction_leaf=0.0, n_estimators='warn', n_jobs=None,\n",
       "            oob_score=False, random_state=None, verbose=0,\n",
       "            warm_start=False),\n",
       "          fit_params=None, iid='warn', n_iter=30, n_jobs=-1,\n",
       "          param_distributions={'bootstrap': [False], 'max_depth': [None, 1, 2, 3, 4, 5, 6, 7, 8, 9], 'max_features': ['sqrt'], 'min_samples_leaf': [1, 2, 4], 'min_samples_split': [2, 5, 10], 'n_estimators': range(10, 500, 50)},\n",
       "          pre_dispatch='2*n_jobs', random_state=42, refit=True,\n",
       "          return_train_score='warn', scoring='f1_weighted', verbose=1)"
      ]
     },
     "execution_count": 68,
     "metadata": {},
     "output_type": "execute_result"
    }
   ],
   "source": [
    "from sklearn.model_selection import RandomizedSearchCV\n",
    "\n",
    "param_grid = {\n",
    "    'bootstrap': [False],\n",
    "    'max_depth': [None] + [x for x in range(1, 10, 1)],\n",
    "    'max_features': ['sqrt'],\n",
    "    'min_samples_leaf': [1, 2, 4],\n",
    "    'min_samples_split': [2, 5, 10],\n",
    "    'n_estimators': range(10, 500, 50)\n",
    "}\n",
    "\n",
    "rf_grid_search = RandomizedSearchCV(rf_clf, param_distributions=param_grid, cv=3, \n",
    "                                    scoring='f1_weighted', n_iter = 30, \n",
    "                                    verbose=1, random_state=42, n_jobs=-1)\n",
    "rf_grid_search.fit(train, train_targets)"
   ]
  },
  {
   "cell_type": "code",
   "execution_count": 70,
   "metadata": {
    "ExecuteTime": {
     "end_time": "2019-06-30T15:16:35.572412Z",
     "start_time": "2019-06-30T15:16:35.563141Z"
    }
   },
   "outputs": [
    {
     "data": {
      "text/plain": [
       "{'n_estimators': 460,\n",
       " 'min_samples_split': 2,\n",
       " 'min_samples_leaf': 2,\n",
       " 'max_features': 'sqrt',\n",
       " 'max_depth': None,\n",
       " 'bootstrap': False}"
      ]
     },
     "execution_count": 70,
     "metadata": {},
     "output_type": "execute_result"
    }
   ],
   "source": [
    "rf_grid_search.best_params_"
   ]
  },
  {
   "cell_type": "code",
   "execution_count": 7,
   "metadata": {
    "ExecuteTime": {
     "end_time": "2019-07-01T06:13:45.876256Z",
     "start_time": "2019-07-01T06:13:45.873478Z"
    }
   },
   "outputs": [],
   "source": [
    "best_params = {\n",
    "    'n_estimators': 460,\n",
    "    'min_samples_split': 2,\n",
    "    'min_samples_leaf': 2,\n",
    "    'max_features': 'sqrt',\n",
    "    'max_depth': None,\n",
    "    'bootstrap': False,\n",
    "    'n_jobs': -1\n",
    "}\n",
    "rf_clf = RandomForestClassifier(**best_params)"
   ]
  },
  {
   "cell_type": "code",
   "execution_count": 8,
   "metadata": {
    "ExecuteTime": {
     "end_time": "2019-07-01T06:20:19.915361Z",
     "start_time": "2019-07-01T06:13:49.885080Z"
    }
   },
   "outputs": [
    {
     "data": {
      "text/plain": [
       "RandomForestClassifier(bootstrap=False, class_weight=None, criterion='gini',\n",
       "            max_depth=None, max_features='sqrt', max_leaf_nodes=None,\n",
       "            min_impurity_decrease=0.0, min_impurity_split=None,\n",
       "            min_samples_leaf=2, min_samples_split=2,\n",
       "            min_weight_fraction_leaf=0.0, n_estimators=460, n_jobs=None,\n",
       "            oob_score=False, random_state=None, verbose=0,\n",
       "            warm_start=False)"
      ]
     },
     "execution_count": 8,
     "metadata": {},
     "output_type": "execute_result"
    }
   ],
   "source": [
    "rf_clf.fit(train, train_labels)"
   ]
  },
  {
   "cell_type": "code",
   "execution_count": 16,
   "metadata": {
    "ExecuteTime": {
     "end_time": "2019-07-01T07:08:10.738024Z",
     "start_time": "2019-07-01T07:08:08.122533Z"
    }
   },
   "outputs": [],
   "source": [
    "predictions = rf_clf.predict(test)"
   ]
  },
  {
   "cell_type": "code",
   "execution_count": 17,
   "metadata": {
    "ExecuteTime": {
     "end_time": "2019-07-01T07:08:13.666299Z",
     "start_time": "2019-07-01T07:08:13.651773Z"
    }
   },
   "outputs": [
    {
     "name": "stdout",
     "output_type": "stream",
     "text": [
      "              precision    recall  f1-score   support\n",
      "\n",
      " T-shirt/top      0.456     0.954     0.617      1000\n",
      "     Trouser      0.999     0.948     0.973      1000\n",
      "    Pullover      0.865     0.701     0.775      1000\n",
      "       Dress      0.929     0.845     0.885      1000\n",
      "        Coat      0.853     0.715     0.778      1000\n",
      "      Sandal      0.993     0.943     0.967      1000\n",
      "       Shirt      0.868     0.446     0.589      1000\n",
      "     Sneaker      0.942     0.945     0.944      1000\n",
      "         Bag      0.989     0.953     0.970      1000\n",
      "  Ankle boot      0.965     0.934     0.949      1000\n",
      "\n",
      "   micro avg      0.838     0.838     0.838     10000\n",
      "   macro avg      0.886     0.838     0.845     10000\n",
      "weighted avg      0.886     0.838     0.845     10000\n",
      "\n"
     ]
    }
   ],
   "source": [
    "from sklearn.metrics import classification_report\n",
    "\n",
    "report_rf = classification_report(test_labels, predictions.argmax(axis=1), \n",
    "                                  target_names=class_names, digits=3)\n",
    "print(report_rf)"
   ]
  },
  {
   "cell_type": "markdown",
   "metadata": {},
   "source": [
    "## Train a XGBoost classifier"
   ]
  },
  {
   "cell_type": "code",
   "execution_count": 29,
   "metadata": {
    "ExecuteTime": {
     "end_time": "2019-07-01T08:50:22.549498Z",
     "start_time": "2019-07-01T08:38:45.487721Z"
    }
   },
   "outputs": [
    {
     "data": {
      "text/plain": [
       "XGBClassifier(base_score=0.5, booster='gbtree', colsample_bylevel=1,\n",
       "       colsample_bynode=1, colsample_bytree=0.7, gamma=0.6,\n",
       "       learning_rate=0.01, max_delta_step=0, max_depth=4,\n",
       "       min_child_weight=0, missing=None, n_estimators=500, n_jobs=1,\n",
       "       nthread=-1, objective='multi:softprob', random_state=42,\n",
       "       reg_alpha=6e-05, reg_lambda=1, scale_pos_weight=1, seed=None,\n",
       "       silent=None, subsample=0.7, verbosity=1)"
      ]
     },
     "execution_count": 29,
     "metadata": {},
     "output_type": "execute_result"
    }
   ],
   "source": [
    "from xgboost import XGBClassifier\n",
    "\n",
    "xgb_params = {\n",
    "    'learning_rate':0.01,\n",
    "    'n_estimators':500,\n",
    "    'max_depth':4,\n",
    "    'min_child_weight':0,\n",
    "    'gamma':0.6,\n",
    "    'subsample':0.7,\n",
    "    'colsample_bytree':0.7,\n",
    "    'objective':'multi:softmax',\n",
    "    'scale_pos_weight':1,\n",
    "    'reg_alpha':0.00006,\n",
    "    'random_state':42,\n",
    "    'nthread':-1\n",
    "}\n",
    "\n",
    "xgb_clf = XGBClassifier(**xgb_params)\n",
    "xgb_clf.fit(train, train_labels)"
   ]
  },
  {
   "cell_type": "code",
   "execution_count": 30,
   "metadata": {
    "ExecuteTime": {
     "end_time": "2019-07-01T08:51:34.797614Z",
     "start_time": "2019-07-01T08:51:34.491659Z"
    }
   },
   "outputs": [],
   "source": [
    "predictions = xgb_clf.predict(test)"
   ]
  },
  {
   "cell_type": "code",
   "execution_count": 31,
   "metadata": {
    "ExecuteTime": {
     "end_time": "2019-07-01T08:51:39.717548Z",
     "start_time": "2019-07-01T08:51:39.704577Z"
    }
   },
   "outputs": [
    {
     "name": "stdout",
     "output_type": "stream",
     "text": [
      "              precision    recall  f1-score   support\n",
      "\n",
      " T-shirt/top      0.800     0.832     0.816      1000\n",
      "     Trouser      0.991     0.951     0.970      1000\n",
      "    Pullover      0.727     0.760     0.743      1000\n",
      "       Dress      0.844     0.885     0.864      1000\n",
      "        Coat      0.721     0.779     0.749      1000\n",
      "      Sandal      0.979     0.930     0.954      1000\n",
      "       Shirt      0.674     0.550     0.606      1000\n",
      "     Sneaker      0.910     0.930     0.920      1000\n",
      "         Bag      0.949     0.955     0.952      1000\n",
      "  Ankle boot      0.919     0.947     0.933      1000\n",
      "\n",
      "   micro avg      0.852     0.852     0.852     10000\n",
      "   macro avg      0.851     0.852     0.851     10000\n",
      "weighted avg      0.851     0.852     0.851     10000\n",
      "\n"
     ]
    }
   ],
   "source": [
    "xgb_report = classification_report(test_labels, predictions, target_names=class_names, digits=3)\n",
    "print(xgb_report)"
   ]
  }
 ],
 "metadata": {
  "kernelspec": {
   "display_name": "Python 3",
   "language": "python",
   "name": "python3"
  },
  "language_info": {
   "codemirror_mode": {
    "name": "ipython",
    "version": 3
   },
   "file_extension": ".py",
   "mimetype": "text/x-python",
   "name": "python",
   "nbconvert_exporter": "python",
   "pygments_lexer": "ipython3",
   "version": "3.6.8"
  },
  "toc": {
   "base_numbering": 1,
   "nav_menu": {
    "height": "179px",
    "width": "160px"
   },
   "number_sections": true,
   "sideBar": true,
   "skip_h1_title": false,
   "title_cell": "Table of Contents",
   "title_sidebar": "Contents",
   "toc_cell": false,
   "toc_position": {},
   "toc_section_display": true,
   "toc_window_display": false
  },
  "varInspector": {
   "cols": {
    "lenName": 16,
    "lenType": 16,
    "lenVar": 40
   },
   "kernels_config": {
    "python": {
     "delete_cmd_postfix": "",
     "delete_cmd_prefix": "del ",
     "library": "var_list.py",
     "varRefreshCmd": "print(var_dic_list())"
    },
    "r": {
     "delete_cmd_postfix": ") ",
     "delete_cmd_prefix": "rm(",
     "library": "var_list.r",
     "varRefreshCmd": "cat(var_dic_list()) "
    }
   },
   "types_to_exclude": [
    "module",
    "function",
    "builtin_function_or_method",
    "instance",
    "_Feature"
   ],
   "window_display": false
  }
 },
 "nbformat": 4,
 "nbformat_minor": 2
}
