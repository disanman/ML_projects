{
 "cells": [
  {
   "cell_type": "markdown",
   "metadata": {},
   "source": [
    "# Financial data downloading and analysis"
   ]
  },
  {
   "cell_type": "markdown",
   "metadata": {},
   "source": [
    "This notebook presents the Finviz spider implemented in python and a basic stock screener for a value strategy investment. \n",
    "\n",
    "The spider can be initialized by loading the class [FinvizSpider](Spider.py). To download data, just execute:"
   ]
  },
  {
   "cell_type": "code",
   "execution_count": null,
   "metadata": {},
   "outputs": [],
   "source": [
    "from Spider import FinvizSpider\n",
    "\n",
    "spider = FinvizSpider()\n",
    "spider.scrape_data(max_pages='all')   # put 'all' or an integer: e.g. 5\n",
    "data = spider.clean_data()"
   ]
  },
  {
   "cell_type": "markdown",
   "metadata": {},
   "source": [
    "Loading a backup .csv of the data:"
   ]
  },
  {
   "cell_type": "code",
   "execution_count": 7,
   "metadata": {
    "ExecuteTime": {
     "end_time": "2019-07-03T10:01:57.075681Z",
     "start_time": "2019-07-03T10:01:56.990563Z"
    }
   },
   "outputs": [
    {
     "name": "stderr",
     "output_type": "stream",
     "text": [
      "/home/diego/miniconda3/lib/python3.7/site-packages/ipykernel_launcher.py:3: FutureWarning: from_csv is deprecated. Please use read_csv(...) instead. Note that some of the default arguments are different, so please refer to the documentation for from_csv when changing your function calls\n",
      "  This is separate from the ipykernel package so we can avoid doing imports until\n"
     ]
    },
    {
     "data": {
      "text/html": [
       "<div>\n",
       "<style scoped>\n",
       "    .dataframe tbody tr th:only-of-type {\n",
       "        vertical-align: middle;\n",
       "    }\n",
       "\n",
       "    .dataframe tbody tr th {\n",
       "        vertical-align: top;\n",
       "    }\n",
       "\n",
       "    .dataframe thead th {\n",
       "        text-align: right;\n",
       "    }\n",
       "</style>\n",
       "<table border=\"1\" class=\"dataframe\">\n",
       "  <thead>\n",
       "    <tr style=\"text-align: right;\">\n",
       "      <th></th>\n",
       "      <th>No.</th>\n",
       "      <th>Ticker</th>\n",
       "      <th>Company</th>\n",
       "      <th>Sector</th>\n",
       "      <th>Industry</th>\n",
       "      <th>Country</th>\n",
       "      <th>Market Cap</th>\n",
       "      <th>P/E</th>\n",
       "      <th>Fwd P/E</th>\n",
       "      <th>PEG</th>\n",
       "      <th>...</th>\n",
       "      <th>Gap</th>\n",
       "      <th>Recom</th>\n",
       "      <th>Avg Volume</th>\n",
       "      <th>Rel Volume</th>\n",
       "      <th>Price</th>\n",
       "      <th>Change</th>\n",
       "      <th>Volume</th>\n",
       "      <th>Earnings</th>\n",
       "      <th>Target Price</th>\n",
       "      <th>IPO Date</th>\n",
       "    </tr>\n",
       "  </thead>\n",
       "  <tbody>\n",
       "    <tr>\n",
       "      <th>0</th>\n",
       "      <td>1</td>\n",
       "      <td>A</td>\n",
       "      <td>Agilent Technologies, Inc.</td>\n",
       "      <td>Healthcare</td>\n",
       "      <td>Medical Laboratories &amp; Research</td>\n",
       "      <td>USA</td>\n",
       "      <td>2.367000e+13</td>\n",
       "      <td>21.18</td>\n",
       "      <td>21.96</td>\n",
       "      <td>2.0</td>\n",
       "      <td>...</td>\n",
       "      <td>0.10</td>\n",
       "      <td>1.8</td>\n",
       "      <td>2530000.0</td>\n",
       "      <td>1.26</td>\n",
       "      <td>74.67</td>\n",
       "      <td>2.02</td>\n",
       "      <td>3159736.0</td>\n",
       "      <td>Aug 13/a</td>\n",
       "      <td>83.64</td>\n",
       "      <td>11/18/1999</td>\n",
       "    </tr>\n",
       "    <tr>\n",
       "      <th>1</th>\n",
       "      <td>2</td>\n",
       "      <td>AA</td>\n",
       "      <td>Alcoa Corporation</td>\n",
       "      <td>Basic Materials</td>\n",
       "      <td>Aluminum</td>\n",
       "      <td>USA</td>\n",
       "      <td>4.290000e+12</td>\n",
       "      <td>NaN</td>\n",
       "      <td>9.85</td>\n",
       "      <td>NaN</td>\n",
       "      <td>...</td>\n",
       "      <td>-0.13</td>\n",
       "      <td>2.1</td>\n",
       "      <td>3440000.0</td>\n",
       "      <td>0.85</td>\n",
       "      <td>23.41</td>\n",
       "      <td>1.21</td>\n",
       "      <td>2910116.0</td>\n",
       "      <td>Jul 17/a</td>\n",
       "      <td>34.75</td>\n",
       "      <td>1/2/1962</td>\n",
       "    </tr>\n",
       "    <tr>\n",
       "      <th>2</th>\n",
       "      <td>3</td>\n",
       "      <td>AAAU</td>\n",
       "      <td>Perth Mint Physical Gold ETF</td>\n",
       "      <td>Financial</td>\n",
       "      <td>Exchange Traded Fund</td>\n",
       "      <td>USA</td>\n",
       "      <td>NaN</td>\n",
       "      <td>NaN</td>\n",
       "      <td>NaN</td>\n",
       "      <td>NaN</td>\n",
       "      <td>...</td>\n",
       "      <td>0.14</td>\n",
       "      <td>NaN</td>\n",
       "      <td>38900.0</td>\n",
       "      <td>0.25</td>\n",
       "      <td>14.10</td>\n",
       "      <td>0.28</td>\n",
       "      <td>9733.0</td>\n",
       "      <td>-</td>\n",
       "      <td>NaN</td>\n",
       "      <td>8/15/2018</td>\n",
       "    </tr>\n",
       "    <tr>\n",
       "      <th>3</th>\n",
       "      <td>4</td>\n",
       "      <td>AABA</td>\n",
       "      <td>Altaba Inc.</td>\n",
       "      <td>Financial</td>\n",
       "      <td>Asset Management</td>\n",
       "      <td>USA</td>\n",
       "      <td>6.561000e+13</td>\n",
       "      <td>NaN</td>\n",
       "      <td>NaN</td>\n",
       "      <td>NaN</td>\n",
       "      <td>...</td>\n",
       "      <td>0.03</td>\n",
       "      <td>3.0</td>\n",
       "      <td>7710000.0</td>\n",
       "      <td>1.21</td>\n",
       "      <td>69.37</td>\n",
       "      <td>-0.86</td>\n",
       "      <td>9033122.0</td>\n",
       "      <td>-</td>\n",
       "      <td>76.00</td>\n",
       "      <td>4/12/1996</td>\n",
       "    </tr>\n",
       "    <tr>\n",
       "      <th>4</th>\n",
       "      <td>5</td>\n",
       "      <td>AAC</td>\n",
       "      <td>AAC Holdings, Inc.</td>\n",
       "      <td>Healthcare</td>\n",
       "      <td>Specialized Health Services</td>\n",
       "      <td>USA</td>\n",
       "      <td>2.100000e+07</td>\n",
       "      <td>NaN</td>\n",
       "      <td>13.23</td>\n",
       "      <td>NaN</td>\n",
       "      <td>...</td>\n",
       "      <td>3.59</td>\n",
       "      <td>1.5</td>\n",
       "      <td>406880.0</td>\n",
       "      <td>4.48</td>\n",
       "      <td>0.86</td>\n",
       "      <td>3.59</td>\n",
       "      <td>1712915.0</td>\n",
       "      <td>Aug 08/b</td>\n",
       "      <td>4.50</td>\n",
       "      <td>10/2/2014</td>\n",
       "    </tr>\n",
       "  </tbody>\n",
       "</table>\n",
       "<p>5 rows × 71 columns</p>\n",
       "</div>"
      ],
      "text/plain": [
       "   No. Ticker                       Company           Sector  \\\n",
       "0    1      A    Agilent Technologies, Inc.       Healthcare   \n",
       "1    2     AA             Alcoa Corporation  Basic Materials   \n",
       "2    3   AAAU  Perth Mint Physical Gold ETF        Financial   \n",
       "3    4   AABA                   Altaba Inc.        Financial   \n",
       "4    5    AAC            AAC Holdings, Inc.       Healthcare   \n",
       "\n",
       "                          Industry Country    Market Cap    P/E  Fwd P/E  PEG  \\\n",
       "0  Medical Laboratories & Research     USA  2.367000e+13  21.18    21.96  2.0   \n",
       "1                         Aluminum     USA  4.290000e+12    NaN     9.85  NaN   \n",
       "2             Exchange Traded Fund     USA           NaN    NaN      NaN  NaN   \n",
       "3                 Asset Management     USA  6.561000e+13    NaN      NaN  NaN   \n",
       "4      Specialized Health Services     USA  2.100000e+07    NaN    13.23  NaN   \n",
       "\n",
       "   ...   Gap  Recom  Avg Volume  Rel Volume  Price  Change     Volume  \\\n",
       "0  ...  0.10    1.8   2530000.0        1.26  74.67    2.02  3159736.0   \n",
       "1  ... -0.13    2.1   3440000.0        0.85  23.41    1.21  2910116.0   \n",
       "2  ...  0.14    NaN     38900.0        0.25  14.10    0.28     9733.0   \n",
       "3  ...  0.03    3.0   7710000.0        1.21  69.37   -0.86  9033122.0   \n",
       "4  ...  3.59    1.5    406880.0        4.48   0.86    3.59  1712915.0   \n",
       "\n",
       "   Earnings  Target Price    IPO Date  \n",
       "0  Aug 13/a         83.64  11/18/1999  \n",
       "1  Jul 17/a         34.75    1/2/1962  \n",
       "2         -           NaN   8/15/2018  \n",
       "3         -         76.00   4/12/1996  \n",
       "4  Aug 08/b          4.50   10/2/2014  \n",
       "\n",
       "[5 rows x 71 columns]"
      ]
     },
     "execution_count": 7,
     "metadata": {},
     "output_type": "execute_result"
    }
   ],
   "source": [
    "import pandas as pd\n",
    "\n",
    "data = pd.DataFrame.from_csv('Finviz_data_20190701_1307.csv')\n",
    "data.head()"
   ]
  },
  {
   "cell_type": "markdown",
   "metadata": {},
   "source": [
    "Let's check the data structure for the stock 'DATA' (Tableau):"
   ]
  },
  {
   "cell_type": "code",
   "execution_count": 18,
   "metadata": {
    "ExecuteTime": {
     "end_time": "2019-07-03T10:09:53.331197Z",
     "start_time": "2019-07-03T10:09:53.327628Z"
    }
   },
   "outputs": [
    {
     "data": {
      "text/plain": [
       "Index(['No.', 'Ticker', 'Company', 'Sector', 'Industry', 'Country',\n",
       "       'Market Cap', 'P/E', 'Fwd P/E', 'PEG', 'P/S', 'P/B', 'P/C', 'P/FCF',\n",
       "       'Dividend', 'Payout Ratio', 'EPS', 'EPS this Y', 'EPS next Y',\n",
       "       'EPS past 5Y', 'EPS next 5Y', 'Sales past 5Y', 'EPS Q/Q', 'Sales Q/Q',\n",
       "       'Outstanding', 'Float', 'Insider Own', 'Insider Trans', 'Inst Own',\n",
       "       'Inst Trans', 'Float Short', 'Short Ratio', 'ROA', 'ROE', 'ROI',\n",
       "       'Curr R', 'Quick R', 'LTDebt/Eq', 'Debt/Eq', 'Gross M', 'Oper M',\n",
       "       'Profit M', 'Perf Week', 'Perf Month', 'Perf Quart', 'Perf Half',\n",
       "       'Perf Year', 'Perf YTD', 'Beta', 'ATR', 'Volatility W', 'Volatility M',\n",
       "       'SMA20', 'SMA50', 'SMA200', '50D High', '50D Low', '52W High',\n",
       "       '52W Low', 'RSI', 'from Open', 'Gap', 'Recom', 'Avg Volume',\n",
       "       'Rel Volume', 'Price', 'Change', 'Volume', 'Earnings', 'Target Price',\n",
       "       'IPO Date'],\n",
       "      dtype='object')"
      ]
     },
     "execution_count": 18,
     "metadata": {},
     "output_type": "execute_result"
    }
   ],
   "source": [
    "data.columns"
   ]
  },
  {
   "cell_type": "code",
   "execution_count": 51,
   "metadata": {
    "ExecuteTime": {
     "end_time": "2019-07-03T10:21:02.892878Z",
     "start_time": "2019-07-03T10:21:02.723829Z"
    }
   },
   "outputs": [
    {
     "data": {
      "text/plain": [
       "<matplotlib.axes._subplots.AxesSubplot at 0x7f7d00ab9a58>"
      ]
     },
     "execution_count": 51,
     "metadata": {},
     "output_type": "execute_result"
    },
    {
     "data": {
      "image/png": "[encoded data removed]",
      "text/plain": [
       "<Figure size 432x288 with 1 Axes>"
      ]
     },
     "metadata": {
      "needs_background": "light"
     },
     "output_type": "display_data"
    }
   ],
   "source": [
    "p = sns.distplot(data['Market Cap'][data['Market Cap'] < 1e10])\n",
    "p.set(title='Histogram of Market Cap')\n",
    "p"
   ]
  },
  {
   "cell_type": "code",
   "execution_count": 52,
   "metadata": {
    "ExecuteTime": {
     "end_time": "2019-07-03T10:21:30.163455Z",
     "start_time": "2019-07-03T10:21:29.979006Z"
    }
   },
   "outputs": [
    {
     "data": {
      "text/plain": [
       "<matplotlib.axes._subplots.AxesSubplot at 0x7f7d0114e198>"
      ]
     },
     "execution_count": 52,
     "metadata": {},
     "output_type": "execute_result"
    },
    {
     "data": {
      "image/png": "[encoded data removed]",
      "text/plain": [
       "<Figure size 432x288 with 1 Axes>"
      ]
     },
     "metadata": {
      "needs_background": "light"
     },
     "output_type": "display_data"
    }
   ],
   "source": [
    "p = sns.distplot(data['P/E'][data['P/E'] < 100])\n",
    "p.set(title='Histogram of Price to earnings')\n",
    "p"
   ]
  },
  {
   "cell_type": "code",
   "execution_count": 54,
   "metadata": {
    "ExecuteTime": {
     "end_time": "2019-07-03T10:22:19.016092Z",
     "start_time": "2019-07-03T10:22:18.839256Z"
    }
   },
   "outputs": [
    {
     "data": {
      "text/plain": [
       "<matplotlib.axes._subplots.AxesSubplot at 0x7f7cfd53b908>"
      ]
     },
     "execution_count": 54,
     "metadata": {},
     "output_type": "execute_result"
    },
    {
     "data": {
      "image/png": "[encoded data removed]",
      "text/plain": [
       "<Figure size 432x288 with 1 Axes>"
      ]
     },
     "metadata": {
      "needs_background": "light"
     },
     "output_type": "display_data"
    }
   ],
   "source": [
    "p = sns.distplot(data['P/B'][data['P/B'] < 20])\n",
    "p.set(title='Histogram of Price to book')\n",
    "p"
   ]
  },
  {
   "cell_type": "code",
   "execution_count": 57,
   "metadata": {
    "ExecuteTime": {
     "end_time": "2019-07-03T10:23:41.009345Z",
     "start_time": "2019-07-03T10:23:40.833583Z"
    }
   },
   "outputs": [
    {
     "data": {
      "text/plain": [
       "<matplotlib.axes._subplots.AxesSubplot at 0x7f7cfd6d8f28>"
      ]
     },
     "execution_count": 57,
     "metadata": {},
     "output_type": "execute_result"
    },
    {
     "data": {
      "image/png": "[encoded data removed]",
      "text/plain": [
       "<Figure size 432x288 with 1 Axes>"
      ]
     },
     "metadata": {
      "needs_background": "light"
     },
     "output_type": "display_data"
    }
   ],
   "source": [
    "p = sns.distplot(data['Debt/Eq'][data['Debt/Eq'] < 5])\n",
    "p.set(title='Histogram of Debt/Eq')\n",
    "p"
   ]
  },
  {
   "cell_type": "markdown",
   "metadata": {},
   "source": [
    "Let's select the stocks with lower 'P/E', 'P/B', 'Debt/Eq' and 'Market Cap' > 100,000"
   ]
  },
  {
   "cell_type": "code",
   "execution_count": 28,
   "metadata": {
    "ExecuteTime": {
     "end_time": "2019-07-03T10:13:36.001500Z",
     "start_time": "2019-07-03T10:13:35.996429Z"
    }
   },
   "outputs": [
    {
     "data": {
      "text/plain": [
       "P/E                 0.01\n",
       "P/B                    0\n",
       "Debt/Eq              NaN\n",
       "Market Cap    5.2588e+14\n",
       "Name: 869, dtype: object"
      ]
     },
     "execution_count": 28,
     "metadata": {},
     "output_type": "execute_result"
    }
   ],
   "source": [
    "data.iloc[869][['P/E', 'P/B', 'Debt/Eq', 'Market Cap']]"
   ]
  },
  {
   "cell_type": "markdown",
   "metadata": {},
   "source": [
    "## Screening the best stocks"
   ]
  },
  {
   "cell_type": "code",
   "execution_count": 78,
   "metadata": {
    "ExecuteTime": {
     "end_time": "2019-07-03T10:36:24.246331Z",
     "start_time": "2019-07-03T10:36:24.240143Z"
    }
   },
   "outputs": [
    {
     "name": "stdout",
     "output_type": "stream",
     "text": [
      "Total tickers selected: 136\n"
     ]
    }
   ],
   "source": [
    "mask_mkt_cap = (1e8 > data['Market Cap']) & (data['Market Cap'] < 3e8)\n",
    "mask_pe = data['P/E'] < 30\n",
    "mask_pb = data['P/B'] < 4\n",
    "mask_debt = data['Debt/Eq'] < 1\n",
    "mask = mask_mkt_cap & mask_pe & mask_pb & mask_debt\n",
    "print(f'Total tickers selected: {sum(mask)}')"
   ]
  },
  {
   "cell_type": "markdown",
   "metadata": {
    "ExecuteTime": {
     "end_time": "2019-07-03T10:36:29.347473Z",
     "start_time": "2019-07-03T10:36:29.341391Z"
    }
   },
   "source": [
    "Rank the selected tickers by a composed index:"
   ]
  },
  {
   "cell_type": "code",
   "execution_count": 89,
   "metadata": {
    "ExecuteTime": {
     "end_time": "2019-07-03T10:45:45.324206Z",
     "start_time": "2019-07-03T10:45:45.308851Z"
    }
   },
   "outputs": [
    {
     "data": {
      "text/html": [
       "<div>\n",
       "<style scoped>\n",
       "    .dataframe tbody tr th:only-of-type {\n",
       "        vertical-align: middle;\n",
       "    }\n",
       "\n",
       "    .dataframe tbody tr th {\n",
       "        vertical-align: top;\n",
       "    }\n",
       "\n",
       "    .dataframe thead th {\n",
       "        text-align: right;\n",
       "    }\n",
       "</style>\n",
       "<table border=\"1\" class=\"dataframe\">\n",
       "  <thead>\n",
       "    <tr style=\"text-align: right;\">\n",
       "      <th></th>\n",
       "      <th>Ticker</th>\n",
       "      <th>Company</th>\n",
       "      <th>Sector</th>\n",
       "      <th>Industry</th>\n",
       "      <th>Market Cap</th>\n",
       "      <th>P/E</th>\n",
       "      <th>P/B</th>\n",
       "      <th>Debt/Eq</th>\n",
       "      <th>index</th>\n",
       "    </tr>\n",
       "  </thead>\n",
       "  <tbody>\n",
       "    <tr>\n",
       "      <th>4931</th>\n",
       "      <td>NTZ</td>\n",
       "      <td>Natuzzi S.p.A.</td>\n",
       "      <td>Consumer Goods</td>\n",
       "      <td>Home Furnishings &amp; Fixtures</td>\n",
       "      <td>25700000.0</td>\n",
       "      <td>0.69</td>\n",
       "      <td>0.18</td>\n",
       "      <td>0.00</td>\n",
       "      <td>17.000</td>\n",
       "    </tr>\n",
       "    <tr>\n",
       "      <th>6703</th>\n",
       "      <td>THST</td>\n",
       "      <td>Truett-Hurst, Inc.</td>\n",
       "      <td>Consumer Goods</td>\n",
       "      <td>Beverages - Wineries &amp; Distillers</td>\n",
       "      <td>6120000.0</td>\n",
       "      <td>2.26</td>\n",
       "      <td>0.59</td>\n",
       "      <td>0.00</td>\n",
       "      <td>17.500</td>\n",
       "    </tr>\n",
       "    <tr>\n",
       "      <th>666</th>\n",
       "      <td>BDR</td>\n",
       "      <td>Blonder Tongue Laboratories, Inc.</td>\n",
       "      <td>Technology</td>\n",
       "      <td>Communication Equipment</td>\n",
       "      <td>9000000.0</td>\n",
       "      <td>2.50</td>\n",
       "      <td>0.72</td>\n",
       "      <td>0.00</td>\n",
       "      <td>20.875</td>\n",
       "    </tr>\n",
       "    <tr>\n",
       "      <th>4959</th>\n",
       "      <td>NVFY</td>\n",
       "      <td>Nova LifeStyle, Inc.</td>\n",
       "      <td>Consumer Goods</td>\n",
       "      <td>Home Furnishings &amp; Fixtures</td>\n",
       "      <td>20800000.0</td>\n",
       "      <td>5.43</td>\n",
       "      <td>0.27</td>\n",
       "      <td>0.00</td>\n",
       "      <td>21.000</td>\n",
       "    </tr>\n",
       "    <tr>\n",
       "      <th>7585</th>\n",
       "      <td>XTLB</td>\n",
       "      <td>XTL Biopharmaceuticals Ltd.</td>\n",
       "      <td>Healthcare</td>\n",
       "      <td>Biotechnology</td>\n",
       "      <td>10280000.0</td>\n",
       "      <td>1.72</td>\n",
       "      <td>0.84</td>\n",
       "      <td>0.00</td>\n",
       "      <td>23.000</td>\n",
       "    </tr>\n",
       "    <tr>\n",
       "      <th>6096</th>\n",
       "      <td>SDT</td>\n",
       "      <td>SandRidge Mississippian Trust I</td>\n",
       "      <td>Basic Materials</td>\n",
       "      <td>Independent Oil &amp; Gas</td>\n",
       "      <td>18100000.0</td>\n",
       "      <td>3.45</td>\n",
       "      <td>0.67</td>\n",
       "      <td>0.00</td>\n",
       "      <td>24.875</td>\n",
       "    </tr>\n",
       "    <tr>\n",
       "      <th>4524</th>\n",
       "      <td>MN</td>\n",
       "      <td>Manning &amp; Napier, Inc.</td>\n",
       "      <td>Financial</td>\n",
       "      <td>Asset Management</td>\n",
       "      <td>27700000.0</td>\n",
       "      <td>8.50</td>\n",
       "      <td>0.16</td>\n",
       "      <td>0.00</td>\n",
       "      <td>29.000</td>\n",
       "    </tr>\n",
       "    <tr>\n",
       "      <th>3627</th>\n",
       "      <td>INPX</td>\n",
       "      <td>Inpixon</td>\n",
       "      <td>Technology</td>\n",
       "      <td>Application Software</td>\n",
       "      <td>7000000.0</td>\n",
       "      <td>0.04</td>\n",
       "      <td>0.22</td>\n",
       "      <td>0.32</td>\n",
       "      <td>30.000</td>\n",
       "    </tr>\n",
       "    <tr>\n",
       "      <th>6093</th>\n",
       "      <td>SDR</td>\n",
       "      <td>SandRidge Mississippian Trust II</td>\n",
       "      <td>Basic Materials</td>\n",
       "      <td>Independent Oil &amp; Gas</td>\n",
       "      <td>31200000.0</td>\n",
       "      <td>3.26</td>\n",
       "      <td>0.76</td>\n",
       "      <td>0.00</td>\n",
       "      <td>30.250</td>\n",
       "    </tr>\n",
       "    <tr>\n",
       "      <th>1559</th>\n",
       "      <td>CUO</td>\n",
       "      <td>Continental Materials Corporation</td>\n",
       "      <td>Industrial Goods</td>\n",
       "      <td>Diversified Machinery</td>\n",
       "      <td>27680000.0</td>\n",
       "      <td>2.90</td>\n",
       "      <td>0.44</td>\n",
       "      <td>0.01</td>\n",
       "      <td>30.625</td>\n",
       "    </tr>\n",
       "  </tbody>\n",
       "</table>\n",
       "</div>"
      ],
      "text/plain": [
       "     Ticker                            Company            Sector  \\\n",
       "4931    NTZ                     Natuzzi S.p.A.    Consumer Goods   \n",
       "6703   THST                 Truett-Hurst, Inc.    Consumer Goods   \n",
       "666     BDR  Blonder Tongue Laboratories, Inc.        Technology   \n",
       "4959   NVFY               Nova LifeStyle, Inc.    Consumer Goods   \n",
       "7585   XTLB        XTL Biopharmaceuticals Ltd.        Healthcare   \n",
       "6096    SDT    SandRidge Mississippian Trust I   Basic Materials   \n",
       "4524     MN             Manning & Napier, Inc.         Financial   \n",
       "3627   INPX                            Inpixon        Technology   \n",
       "6093    SDR   SandRidge Mississippian Trust II   Basic Materials   \n",
       "1559    CUO  Continental Materials Corporation  Industrial Goods   \n",
       "\n",
       "                               Industry  Market Cap   P/E   P/B  Debt/Eq  \\\n",
       "4931        Home Furnishings & Fixtures  25700000.0  0.69  0.18     0.00   \n",
       "6703  Beverages - Wineries & Distillers   6120000.0  2.26  0.59     0.00   \n",
       "666             Communication Equipment   9000000.0  2.50  0.72     0.00   \n",
       "4959        Home Furnishings & Fixtures  20800000.0  5.43  0.27     0.00   \n",
       "7585                      Biotechnology  10280000.0  1.72  0.84     0.00   \n",
       "6096              Independent Oil & Gas  18100000.0  3.45  0.67     0.00   \n",
       "4524                   Asset Management  27700000.0  8.50  0.16     0.00   \n",
       "3627               Application Software   7000000.0  0.04  0.22     0.32   \n",
       "6093              Independent Oil & Gas  31200000.0  3.26  0.76     0.00   \n",
       "1559              Diversified Machinery  27680000.0  2.90  0.44     0.01   \n",
       "\n",
       "       index  \n",
       "4931  17.000  \n",
       "6703  17.500  \n",
       "666   20.875  \n",
       "4959  21.000  \n",
       "7585  23.000  \n",
       "6096  24.875  \n",
       "4524  29.000  \n",
       "3627  30.000  \n",
       "6093  30.250  \n",
       "1559  30.625  "
      ]
     },
     "execution_count": 89,
     "metadata": {},
     "output_type": "execute_result"
    }
   ],
   "source": [
    "sel = data[mask].copy()  # selected tickers\n",
    "sel['index'] = 0.25 * sel['Market Cap'].rank() + 0.25 * sel['P/E'].rank() + \\\n",
    "               0.25 * sel['P/B'].rank() + 0.25 * sel['Debt/Eq'].rank()\n",
    "sel.loc[:, ['Ticker', 'Company', 'Sector', 'Industry', 'Market Cap', 'P/E', 'P/B', 'Debt/Eq', 'index']].sort_values('index').head(10)"
   ]
  },
  {
   "cell_type": "markdown",
   "metadata": {},
   "source": [
    "## To do: \n",
    "  - Modify the screening of stocks using also those with missing values\n",
    "  - Get the intraday price historic for the selected stocks\n",
    "  - Analyse the investment strategy backtesting using `pyfolio`:"
   ]
  },
  {
   "cell_type": "code",
   "execution_count": 7,
   "metadata": {
    "ExecuteTime": {
     "end_time": "2019-07-03T09:47:19.295322Z",
     "start_time": "2019-07-03T09:47:19.274206Z"
    }
   },
   "outputs": [],
   "source": [
    "import pyfolio as pf\n",
    "\n",
    "?pf.create_position_tear_sheet"
   ]
  }
 ],
 "metadata": {
  "kernelspec": {
   "display_name": "Python 3",
   "language": "python",
   "name": "python3"
  },
  "language_info": {
   "codemirror_mode": {
    "name": "ipython",
    "version": 3
   },
   "file_extension": ".py",
   "mimetype": "text/x-python",
   "name": "python",
   "nbconvert_exporter": "python",
   "pygments_lexer": "ipython3",
   "version": "3.7.3"
  },
  "toc": {
   "base_numbering": 1,
   "nav_menu": {},
   "number_sections": true,
   "sideBar": true,
   "skip_h1_title": false,
   "title_cell": "Table of Contents",
   "title_sidebar": "Contents",
   "toc_cell": false,
   "toc_position": {},
   "toc_section_display": true,
   "toc_window_display": false
  },
  "varInspector": {
   "cols": {
    "lenName": 16,
    "lenType": 16,
    "lenVar": 40
   },
   "kernels_config": {
    "python": {
     "delete_cmd_postfix": "",
     "delete_cmd_prefix": "del ",
     "library": "var_list.py",
     "varRefreshCmd": "print(var_dic_list())"
    },
    "r": {
     "delete_cmd_postfix": ") ",
     "delete_cmd_prefix": "rm(",
     "library": "var_list.r",
     "varRefreshCmd": "cat(var_dic_list()) "
    }
   },
   "types_to_exclude": [
    "module",
    "function",
    "builtin_function_or_method",
    "instance",
    "_Feature"
   ],
   "window_display": false
  }
 },
 "nbformat": 4,
 "nbformat_minor": 2
}
